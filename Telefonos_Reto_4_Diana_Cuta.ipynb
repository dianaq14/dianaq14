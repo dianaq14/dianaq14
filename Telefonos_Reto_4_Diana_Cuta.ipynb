{
  "nbformat": 4,
  "nbformat_minor": 0,
  "metadata": {
    "colab": {
      "name": "Telefonos: RETO SEMANA 4 Diana Cuta",
      "provenance": [],
      "collapsed_sections": [],
      "include_colab_link": true
    },
    "kernelspec": {
      "name": "python3",
      "display_name": "Python 3"
    },
    "language_info": {
      "name": "python"
    }
  },
  "cells": [
    {
      "cell_type": "markdown",
      "metadata": {
        "id": "view-in-github",
        "colab_type": "text"
      },
      "source": [
        "<a href=\"https://colab.research.google.com/github/dianaq14/dianaq14/blob/main/Telefonos_Reto_4_Diana_Cuta.ipynb\" target=\"_parent\"><img src=\"https://colab.research.google.com/assets/colab-badge.svg\" alt=\"Open In Colab\"/></a>"
      ]
    },
    {
      "cell_type": "markdown",
      "metadata": {
        "id": "cTmI2A-vu7yl"
      },
      "source": [
        "##¿Entonces qué debe hacer el programa en Python?\n",
        "- En una Lista recibir al menos una marca de teléfono a comprar\n",
        "- En una lista recibir la cantidad de cajas a comprar por cada marca\n",
        "- Recibir El código del cupón\n",
        "##Con los datos anteriores debe calcular y retornar:\n",
        "-Total de la compra\n",
        "- Total de la compra menos el descuento Sí aplica. \n",
        "\n",
        "## Estructura de apoyo"
      ]
    },
    {
      "cell_type": "code",
      "metadata": {
        "id": "Nv6cm_0diEG4",
        "colab": {
          "base_uri": "https://localhost:8080/"
        },
        "outputId": "0d1a806e-a407-4952-d234-8a61fd1507c1"
      },
      "source": [
        "#Diana Marcela Cuta Barrera\n",
        "\n",
        "productos=[\"Samsung\",\"Xiaomi\",\"Motorola\",\"Huawei\",\"Alcatel\"]\n",
        "precios = [950,750,720,890,670]\n",
        "\n",
        "def total_compra(telefonos, cantidades):\n",
        "#Escribe tu código de la función\n",
        "  total_compra = 0\n",
        "\n",
        "  if len(telefonos)==len(cantidades): # SI LOS DOS TIENEN LA MISMA DIMENSIÓN, AVANZO\n",
        "\n",
        "    for i in range(len(telefonos)):   \n",
        "      for j in range(len(productos)):\n",
        "        if telefonos[i] == productos[j]:\n",
        "          total_compra = total_compra + precios[j]*cantidades[i]\n",
        "          break \n",
        "    return total_compra  \n",
        "  else:\n",
        "    return 'Error'\n",
        "\n",
        "def descuento(telefonos,cupon,total):\n",
        "  if cupon == \"H5K986W\":   #código del cupón de descuento para Samsung y Motorola\n",
        "    for telefono in telefonos:\n",
        "      if telefono == \"Samsung\" or telefono == \"Motorola\":\n",
        "        total = total -100  # Total menos el descuento de 100 dolares si aplica el cupón\n",
        "\n",
        "  else:\n",
        "    print(\"cupón invalido\")\n",
        "\n",
        "  return total\n",
        "\n",
        "\n",
        "\n",
        "#----------------------------------------------PRUEBA---------------------------------------#\n",
        "telefonos = [\"Samsung\",\"Xiaomi\",\"Motorola\",\"Alcatel\"]\n",
        "cantidades = [1,2,1,1]\n",
        "cupon = \"H5K986W\"\n",
        "total = total_compra(telefonos,cantidades)\n",
        "print(total)\n",
        "total_desc = descuento(telefonos,cupon,total)\n",
        "print(total_desc)\n"
      ],
      "execution_count": null,
      "outputs": [
        {
          "output_type": "stream",
          "name": "stdout",
          "text": [
            "3840\n",
            "3640\n"
          ]
        }
      ]
    },
    {
      "cell_type": "markdown",
      "metadata": {
        "id": "32AVytK7Dk2p"
      },
      "source": [
        "# TEST EN MOODLE"
      ]
    },
    {
      "cell_type": "code",
      "metadata": {
        "id": "fdUnZZgCbd05",
        "colab": {
          "base_uri": "https://localhost:8080/"
        },
        "outputId": "86c9ac77-d47e-41c4-ebbc-516944891080"
      },
      "source": [
        "\n",
        "\n",
        "telefonos = [\"Samsung\",\"Xiaomi\",\"Motorola\",\"Alcatel\"]\n",
        "cantidades = [1,2,1,1]\n",
        "cupon = \"H5K986W\"\n",
        "total = total_compra(telefonos,cantidades)\n",
        "print(total)\n",
        "total_desc = descuento(telefonos,cupon,total)\n",
        "print(total_desc)\n",
        "\n",
        "\n",
        "\n",
        "telefonos = [\"Samsung\",\"Xiaomi\",\"Motorola\",\"Alcatel\"]\n",
        "cantidades = [1,2]\n",
        "total = total_compra(telefonos,cantidades)\n",
        "print(total)\n",
        "\n",
        "\n",
        "\n",
        "telefonos = [\"Samsung\",\"Huawei\",\"Motorola\",\"Alcatel\"]\n",
        "cantidades = [2,1,1,1]\n",
        "cupon = \"H5K9845\"\n",
        "total = total_compra(telefonos,cantidades)\n",
        "print(total)\n",
        "total_desc = descuento(telefonos,cupon,total)\n",
        "print(total_desc)"
      ],
      "execution_count": null,
      "outputs": [
        {
          "output_type": "stream",
          "name": "stdout",
          "text": [
            "3840\n",
            "3640\n",
            "Error\n",
            "4180\n",
            "cupón invalido\n",
            "4180\n"
          ]
        }
      ]
    }
  ]
}