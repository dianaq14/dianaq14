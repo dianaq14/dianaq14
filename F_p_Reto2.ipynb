{
  "nbformat": 4,
  "nbformat_minor": 0,
  "metadata": {
    "colab": {
      "name": "F-p Reto2.ipynb",
      "provenance": [],
      "collapsed_sections": [],
      "authorship_tag": "ABX9TyNxByIzab1E5By+EXx5anVO",
      "include_colab_link": true
    },
    "kernelspec": {
      "name": "python3",
      "display_name": "Python 3"
    },
    "language_info": {
      "name": "python"
    }
  },
  "cells": [
    {
      "cell_type": "markdown",
      "metadata": {
        "id": "view-in-github",
        "colab_type": "text"
      },
      "source": [
        "<a href=\"https://colab.research.google.com/github/dianaq14/dianaq14/blob/main/F_p_Reto2.ipynb\" target=\"_parent\"><img src=\"https://colab.research.google.com/assets/colab-badge.svg\" alt=\"Open In Colab\"/></a>"
      ]
    },
    {
      "cell_type": "code",
      "execution_count": null,
      "metadata": {
        "id": "3hmNRsjVtU2e"
      },
      "outputs": [],
      "source": [
        ""
      ]
    },
    {
      "cell_type": "markdown",
      "source": [
        "**CALCULADORA SALUDABLE**\n",
        "\n",
        "\n",
        "\n",
        "Este reto tiene como objetivo que apliques todos los conceptos que\n",
        "hemos visto en las semanas 1 y 2, para ello debes solucionar un\n",
        "problema aplicando el proceso IDEAL y luego implementar la\n",
        "solución en Python, utilizando funciones, parámetros y una muy\n",
        "buena documentación del código.\n",
        "Este proyecto debe ser implementado en Python \n",
        "\n",
        "**EL PESO IDEAL (IBW)**:  Una de las mas usadas\n",
        "es la del Dr. Miller que establece que el peso ideal para hombres y\n",
        "mujeres está dado por las fórmulas:\n",
        "\n",
        "Hombre = 56.2 +1.41*(Altura (cm)/2.54 -60)\n",
        "\n",
        "Mujer = 53.1 +1.36 *(Altura (cm)/2.54 -60))\n",
        "\n",
        "**QUEMANDO CALORÍAS:**  la fórmula para calcularlas es muy simple:\n",
        "\n",
        "Calorías quemadas = (Tiempo actividad (min) * MET * Peso\n",
        "(Kg)) /200\n",
        "\n",
        "Valores MET\n",
        "• Caminar = 2\n",
        "• Tenis = 5\n",
        "• Montar en bicicleta = 14\n",
        "• Correr = 6\n",
        "• Nadar = 9.8\n",
        "\n",
        "**PORCENTAJE DE GRASA CORPORAL**: Es importante para el deportista la cantidad de grasa corporal que tiene, las fórmulas para calcular el porcentaje del peso de una persona que es grasa son:\n",
        "\n",
        "Hombres adultos = 1.20 * IMC + 0.23 * Edad - 16.2\n",
        "\n",
        "Mujeres adultas = 1.20 * IMC + 0.23 * Edad - 5.4\n",
        "\n",
        "Donde IMC es el índice de masa corporal que se calcula de la\n",
        "siguiente manera:\n",
        "\n",
        "IMC = peso (Kg) / Altura2 (m)\n",
        "\n",
        "**ÍNDICE METABÓLICO BASAL**: El índice metabólico basal o la tasa metabólica basal (TMB) indica la cantidad de calorías que necesita el cuerpo para realizar las funciones metabólicas básicas, como mantener los órganos vitales  en funcionamiento. Se calcula con las siguientes formulas\n",
        "\n",
        "Hombres = 13.397P + 4.799E - 5.677A + 88.362\n",
        "\n",
        "Mujeres = 9.247P + 3.098E - 4.330A + 447.593\n",
        "\n",
        "DONDE\n",
        "\n",
        "P = Peso en Kg  \n",
        "\n",
        "A = Altura en cm \n",
        "\n",
        "E = Edad en años\n",
        "\n",
        "\n",
        "RETO: Realizar una aplicación que permita calcular todas las métricas de\n",
        "la calculadora saludable (para hombres y mujeres) utilizando\n",
        "todos los pasos del método IDEAL.\n"
      ],
      "metadata": {
        "id": "4kct0oopuI_L"
      }
    },
    {
      "cell_type": "code",
      "source": [
        "#Reto 2\n",
        "#Diana Marcela Cuta Barrera   CC: 1052392507\n",
        "#dianacuta14@gmail.com\n",
        "\n",
        "#PESO IDEAL \n",
        "\n",
        "altura_cm= float(input(\"Tu altura en centimeros es?: \"))\n",
        "genero = str(input(\"Eres (H o M): \"))\n",
        "\n",
        "H= \"Hombre\"\n",
        "M=\"Mujer\"\n",
        "\n",
        "if (genero == \"H\") or (genero == \"Hombre\"):\n",
        "  peso_Hombre= 56.2 + 1.41 * altura_cm / 2.54 - 60 \n",
        "  print(\"El peso ideal es: \", peso_Hombre)\n",
        "\n",
        "if (genero == \"M\") or (genero == \"Mujer\"):\n",
        "  peso_Mujer = 53.1 + 1.36 * altura_cm / 2.54 -60\n",
        "  print(\"El peso ideal es: \", peso_Mujer)\n",
        "\n",
        "  #CALORIAS QUEMADAS\n",
        "\n",
        "tiempoMinutos= int(input(\"cuanto tiempo en minutos hacer ejercicio?: \"))\n",
        "Peso= float(input(\"cuantos kg pesas?: \"))\n",
        "\n",
        "Caminar=2\n",
        "Tenis =5\n",
        "Montar_bicicleta= 14\n",
        "Correr= 6\n",
        "Nadar= 9.8\n",
        "\n",
        "MET= float(input(\"ingresa el valor: \"))\n",
        "\n",
        "\n",
        "calorias= (tiempoMinutos) * (MET) * (Peso) / (200)\n",
        "print(\"Las calorias quemadas son: \" , calorias)\n",
        "\n",
        "#IMC\n",
        "\n",
        "peso= input(\"cuantos kg pesas?: \")\n",
        "altura_mts= input(\"cuento mides?: \")\n",
        "edad= input(\"cuantos años tienes?: \")\n",
        "genero = input(\"Eres (type H o M): \")\n",
        "\n",
        "Imc= round(float(peso)/ float(altura_mts)**2,2)\n",
        "\n",
        "print(\"Su Imc es: \", Imc)\n",
        "\n",
        "\n",
        "#ÍNDICE METABÓLICO BASAL\n",
        "\n",
        "peso= float(input(\"cuanto kg pesas?: \"))\n",
        "altura_cm= float(input(\"cuento mides?: \"))\n",
        "edad= int(input(\"cuantos años tienes?: \"))\n",
        "genero = str(input(\"Eres (type H o M): \"))\n",
        "\n",
        "H= \"Hombre\"\n",
        "M=\"Mujer\"\n",
        "\n",
        "\n",
        "if (genero == \"H\") or (genero == \"Hombre\"):\n",
        "  indicebasal_H= (13.397 * peso) + (4.799 * edad) - (5.677 * altura_cm )+ (88.362)\n",
        "  print(\"El indice basal es: \", indicebasal_H)\n",
        "\n",
        "\n",
        "if (genero == \"M\") or (genero == \"Mujer\"):\n",
        "  indicebasal_M = (9.247 *peso) + (3.098 * edad) - (4.330 *altura_cm)  + (447.593)\n",
        "  print(\"El indice basal es: \", indicebasal_M)"
      ],
      "metadata": {
        "colab": {
          "base_uri": "https://localhost:8080/"
        },
        "id": "xDScysBRKl3U",
        "outputId": "8a04e1e8-b376-4881-ecec-42bf58ded4af"
      },
      "execution_count": null,
      "outputs": [
        {
          "output_type": "stream",
          "name": "stdout",
          "text": [
            "Tu altura en centimeros es?: 165\n",
            "Eres (H o M): M\n",
            "El peso ideal es:  81.44645669291339\n",
            "cuanto tiempo en minutos hacer ejercicio?: 57\n",
            "cuantos kg pesas?: 59\n",
            "ingresa el valor: 5\n",
            "Las calorias quemadas son:  84.075\n",
            "cuantos kg pesas?: 59\n",
            "cuento mides?: 1.65\n",
            "cuantos años tienes?: 25\n",
            "Eres (type H o M): M\n",
            "Su Imc es:  21.67\n",
            "cuanto kg pesas?: 59\n",
            "cuento mides?: 1.65\n",
            "cuantos años tienes?: 25\n",
            "Eres (type H o M): M\n",
            "El indice basal es:  1063.4715\n"
          ]
        }
      ]
    }
  ]
}