{
  "nbformat": 4,
  "nbformat_minor": 0,
  "metadata": {
    "colab": {
      "name": "parqueadero RETO SEMANA 5",
      "provenance": [],
      "collapsed_sections": [],
      "include_colab_link": true
    },
    "kernelspec": {
      "name": "python3",
      "display_name": "Python 3"
    },
    "language_info": {
      "name": "python"
    }
  },
  "cells": [
    {
      "cell_type": "markdown",
      "metadata": {
        "id": "view-in-github",
        "colab_type": "text"
      },
      "source": [
        "<a href=\"https://colab.research.google.com/github/dianaq14/dianaq14/blob/main/parqueadero_Reto_5.ipynb\" target=\"_parent\"><img src=\"https://colab.research.google.com/assets/colab-badge.svg\" alt=\"Open In Colab\"/></a>"
      ]
    },
    {
      "cell_type": "markdown",
      "metadata": {
        "id": "cTmI2A-vu7yl"
      },
      "source": [
        "#Reto de la Semana 5\n",
        "\n",
        "## Estructura de apoyo"
      ]
    },
    {
      "cell_type": "markdown",
      "source": [
        "¿Entonces qué debe hacer el programa en Python?\n",
        "\n",
        "- Contener una matriz llamada ocupación con estados False y True, False si está desocupado True si está ocupado. Se debe inicializar en False, todo vacío.\n",
        "-Contener un directorio con el número del parqueadero y las coordenadas de la matriz ocupación\n",
        "- Debe llamar una función validar para verificar la libertad u ocupación del parqueadero, el formato de ella es  def validar(puesto, ocupacion): , ella recibe la matriz de ocupación y el puesto a validar, ella retorna los Strings ‘Libre’ o ‘Ocupado’ , según sea el caso.\n",
        "- Luego debe llamar la función ocupar  \n",
        "def ocupar(puesto, ocupacion, validacion): , ella recibe el puesto, la matriz de ocupación y la previa validación para ocupar el parqueadero. Debe retornar la nueva matriz de Ocupación, obviamente verificando si realmente se puede ocupar ese parqueadero.\n",
        "-Finalmente, se debe llamar una Función\n",
        "def liberar(puesto, ocupacion, validacion): , ella recibe el puesto, la matriz de ocupación y la previa validación para ocupar el parqueadero. Debe retornar la nueva matriz de Ocupación, obviamente verificando si realmente se puede Liberar ese parqueadero.\n",
        "- Implemente Listas y Directorios para solucionar el problema.\n",
        "- Implemente IF o IF Else, o las condiciones que requiera. También implemente\n",
        "Ciclos WHILE o FOR según lo considere.\n",
        "- El código final se debe cargar en Moodle, el cual se autocalificará\n",
        "automáticamente. "
      ],
      "metadata": {
        "id": "9WNJ81_robHM"
      }
    },
    {
      "cell_type": "code",
      "source": [
        "#reto 5 \n",
        "#Diana Marcela Cuta Barrera\n",
        "\n",
        "ocupacion = [[False,False,False],\n",
        "             [False,False,False],\n",
        "             [False,False,False]]\n",
        "\n",
        "\n",
        "puestos ={1:[0,0],2:[0,1],3:[0,2],\n",
        "          4:[1,0],5:[1,1],6:[1,2],\n",
        "          7:[2,0],8:[2,1],9:[2,2]  \n",
        "          }\n",
        "\n",
        "def validar(puesto, ocupacion):\n",
        "  fila, columna = puestos.get(puesto)\n",
        "  if ocupacion [fila][columna] == False:\n",
        "        return 'Libre'\n",
        "  else:\n",
        "        return 'Ocupado'\n",
        "        \n",
        "def ocupar (puesto, ocupacion, validacion):\n",
        " if validacion == 'Libre':\n",
        "   fila, columna = puestos.get(puesto) #Asigna a fila y a columna el valor de puestos[puesto]\n",
        "   ocupacion[fila][columna]= True # Cambiando el valor a True para que el puesto quede ocupado\n",
        " return ocupacion\n",
        "\n",
        "def liberar (puesto, ocupacion, validacion):\n",
        " if validacion == 'Ocupado':\n",
        "   fila, columna = puestos.get(puesto) #Asigna a fila y a columna el valor de puestos[puesto]\n",
        "   ocupacion[fila][columna]= False # Cambiando el valor a True para que el puesto quede ocupado\n",
        " return ocupacion\n",
        "\n"
      ],
      "metadata": {
        "id": "3xv1ZubzIIj9"
      },
      "execution_count": null,
      "outputs": []
    },
    {
      "cell_type": "markdown",
      "metadata": {
        "id": "32AVytK7Dk2p"
      },
      "source": [
        "# TEST EN MOODLE"
      ]
    },
    {
      "cell_type": "code",
      "metadata": {
        "id": "fdUnZZgCbd05",
        "colab": {
          "base_uri": "https://localhost:8080/"
        },
        "outputId": "32ea929c-ff18-4791-d70c-0872b691f3da"
      },
      "source": [
        "# -------------------------Test  Pregunta 1---------------\n",
        "validacion = validar(2,ocupacion) #Ocupar\n",
        "print(validacion)\n",
        "ocupacion = ocupar(2,ocupacion,validacion)\n",
        "print(ocupacion[0][1])\n",
        "\n",
        "\n",
        "validacion = validar(2,ocupacion) #Intento Ocupar si está lleno\n",
        "print(validacion)\n",
        "ocupacion = ocupar(2,ocupacion,validacion)\n",
        "print(ocupacion[0][1])\n",
        "\n",
        "\n",
        "validacion = validar(2,ocupacion)#Liberar\n",
        "print(validacion)\n",
        "ocupacion = liberar(2,ocupacion,validacion)\n",
        "print(ocupacion[0][1])\n",
        "\n",
        "#--------------Test Pregunta 2 ----------------------------\n",
        "print(\"\\n\")\n",
        "validacion = validar(9,ocupacion)\n",
        "print(validacion)\n",
        "ocupacion = ocupar(9,ocupacion,validacion)\n",
        "print(ocupacion[2][2])\n",
        "\n",
        "\n",
        "validacion = validar(9,ocupacion)\n",
        "print(validacion)\n",
        "ocupacion = ocupar(9,ocupacion,validacion)\n",
        "print(ocupacion[2][2])\n",
        "\n",
        "validacion = validar(9,ocupacion)\n",
        "print(validacion)\n",
        "ocupacion = liberar(9,ocupacion,validacion)\n",
        "print(ocupacion[2][2])\n"
      ],
      "execution_count": null,
      "outputs": [
        {
          "output_type": "stream",
          "name": "stdout",
          "text": [
            "Libre\n",
            "True\n",
            "Ocupado\n",
            "True\n",
            "Ocupado\n",
            "False\n",
            "\n",
            "\n",
            "Libre\n",
            "True\n",
            "Ocupado\n",
            "True\n",
            "Ocupado\n",
            "False\n"
          ]
        }
      ]
    }
  ]
}